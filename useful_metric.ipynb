{
 "cells": [
  {
   "cell_type": "code",
   "execution_count": 1,
   "metadata": {},
   "outputs": [],
   "source": [
    "import numpy as np\n",
    "\n",
    "\n",
    "def average_rank(rank: np.array) -> np.array:\n",
    "    return -rank\n",
    "\n",
    "\n",
    "def utility_fcn(gt_effect, rank, weight_fcn):\n",
    "    return np.mean(gt_effect * weight_fcn(rank))"
   ]
  },
  {
   "cell_type": "markdown",
   "metadata": {},
   "source": [
    "## Motivation\n",
    "\n",
    "* Grouped Recommendation 의 경우 user를 그룹 단위로 분류하여, 같은 그룹에 속하는 유저에게는 아이템의 순위를 동일하게 결정.\n",
    "* 두개의 Grouped Recommender 모형의 성능을 비교하는데 기존의 Average Utility 함수가 적합한 평가척도인가?\n",
    "\n",
    "$$R(f) = \\frac{1}{\\mathcal{U}} \\sum_{u=1}^{\\mathcal{U}} U(\\hat{r}_u, \\tau_u) = \\frac{1}{\\mathcal{U} \\cdot \\mathcal{I}}\\sum_{u=1}^{\\mathcal{U}} \\sum_{i=1}^{\\mathcal{I}} \\lambda(\\hat{r}_{u,i}) \\tau_{u,i}$$\n",
    "\n",
    "우선, weighting function $\\lambda$를 Average Rank 인 경우로 생각해보자.\n",
    "$$\\lambda^{AR}(\\hat{r}_{u,i}) = -(\\hat{r}_{u,i})$$"
   ]
  },
  {
   "cell_type": "markdown",
   "metadata": {},
   "source": [
    "### (Case 1)"
   ]
  },
  {
   "cell_type": "code",
   "execution_count": 10,
   "metadata": {},
   "outputs": [
    {
     "name": "stdout",
     "output_type": "stream",
     "text": [
      "Average tau = [ 0.5 -0.5  0.5  0.5 -0.5  0.5]\n"
     ]
    }
   ],
   "source": [
    "tau1 = np.array([1, -1, 1, 0, 0, 0,])\n",
    "tau2 = np.array([0, 0, 0, 1, -1, 1,])\n",
    "print(f\"Average tau = {(tau1+tau2)/2}\")\n",
    "\n",
    "rank1 = np.array([1,6,2,3,4,5])\n",
    "rank2 = np.array([4,5,3,2,6,1])"
   ]
  },
  {
   "cell_type": "markdown",
   "metadata": {},
   "source": [
    "* rank1은 첫번째 유저의 광고효과 tau1 을 기준으로 순위를 배열\n",
    "* rank2는 광고효과의 평균을 기준으로 순위를 결정"
   ]
  },
  {
   "cell_type": "code",
   "execution_count": 11,
   "metadata": {},
   "outputs": [
    {
     "name": "stdout",
     "output_type": "stream",
     "text": [
      "Performance of Rank1: -0.08333333333333331\n",
      "Performance of Rank2: 0.08333333333333334\n"
     ]
    }
   ],
   "source": [
    "eval_rank1 = np.mean([ \n",
    "    utility_fcn(tau1, rank1, average_rank), \n",
    "    utility_fcn(tau2, rank1, average_rank), \n",
    "    ])\n",
    "print(f\"Performance of Rank1: {eval_rank1}\")\n",
    "\n",
    "eval_rank2 = np.mean([ \n",
    "    utility_fcn(tau1, rank2, average_rank), \n",
    "    utility_fcn(tau2, rank2, average_rank), \n",
    "    ])\n",
    "print(f\"Performance of Rank2: {eval_rank2}\")"
   ]
  },
  {
   "cell_type": "markdown",
   "metadata": {},
   "source": [
    "* 그룹 내 유저의 utility 평균을 봤을 때, rank2이 성능이 더 좋음.\n",
    "* 그러나, 첫번째 유저는 rank2로 주어진 추천결과를 만족할까? rank1를 더 만족하지 않을까?"
   ]
  },
  {
   "cell_type": "markdown",
   "metadata": {},
   "source": [
    "### (Case 2)"
   ]
  },
  {
   "cell_type": "code",
   "execution_count": 17,
   "metadata": {},
   "outputs": [
    {
     "name": "stdout",
     "output_type": "stream",
     "text": [
      "Average tau = [0.  0.5 0.  0.  0.5 0. ]\n"
     ]
    }
   ],
   "source": [
    "tau3 = np.array([0, 1, -1, 1, 0, 0,])\n",
    "tau4 = np.array([ 0, 0, 1, -1, 1,0,])\n",
    "print(f\"Average tau = {(tau3+tau4)/2}\")\n",
    "\n",
    "rank3 = np.array([3,2,6,1,5,4])\n",
    "rank4 = np.array([3,1,5,6,2,4])\n",
    "rank5 = np.array([5,2,3,4,1,6])\n"
   ]
  },
  {
   "cell_type": "markdown",
   "metadata": {},
   "source": [
    "* Rank3은 첫번째 유저의 광고효과 기준\n",
    "* Rank4, Rank5는 광고효과의 그룹내 평균을 기준\n",
    "* 첫번째 유저의 입장에서는 Rank 3이 가장 적합한 순위이고, 음의 광고효과를 가지는 아이템의 위치를 기준으로 봤을 때 Rank4가 Rank5 보다 적합하다.\n",
    "$$Rank3 > Rank4 > Rank5$$"
   ]
  },
  {
   "cell_type": "code",
   "execution_count": 18,
   "metadata": {},
   "outputs": [
    {
     "name": "stdout",
     "output_type": "stream",
     "text": [
      "Performance of Rank3: -0.5833333333333334\n",
      "Performance of Rank4: -0.25\n",
      "Performance of Rank5: -0.25\n"
     ]
    }
   ],
   "source": [
    "eval_rank3 = np.mean([ \n",
    "    utility_fcn(tau3, rank3, average_rank), \n",
    "    utility_fcn(tau4, rank3, average_rank), \n",
    "    ])\n",
    "print(f\"Performance of Rank3: {eval_rank3}\")\n",
    "\n",
    "eval_rank4 = np.mean([ \n",
    "    utility_fcn(tau3, rank4, average_rank), \n",
    "    utility_fcn(tau4, rank4, average_rank), \n",
    "    ])\n",
    "print(f\"Performance of Rank4: {eval_rank4}\")\n",
    "\n",
    "eval_rank5 = np.mean([ \n",
    "    utility_fcn(tau3, rank5, average_rank), \n",
    "    utility_fcn(tau4, rank5, average_rank), \n",
    "    ])\n",
    "print(f\"Performance of Rank5: {eval_rank5}\")"
   ]
  },
  {
   "cell_type": "markdown",
   "metadata": {},
   "source": [
    "* 그러나 평가지표로 봤을때는 \n",
    "$$Rank5=Rank4>Rank3$$"
   ]
  },
  {
   "cell_type": "markdown",
   "metadata": {},
   "source": [
    "* Grouped Recommender의 성능을 비교할 때 그나마 그룹 내 모두의 마음에 드는 Ranking이 잘 평가되도록 할 수 있을까?\n",
    "* 기존 Grouped Recommender의 평가지표가 다른지 확인해보자."
   ]
  }
 ],
 "metadata": {
  "kernelspec": {
   "display_name": "rank",
   "language": "python",
   "name": "python3"
  },
  "language_info": {
   "codemirror_mode": {
    "name": "ipython",
    "version": 3
   },
   "file_extension": ".py",
   "mimetype": "text/x-python",
   "name": "python",
   "nbconvert_exporter": "python",
   "pygments_lexer": "ipython3",
   "version": "3.10.0"
  }
 },
 "nbformat": 4,
 "nbformat_minor": 2
}
